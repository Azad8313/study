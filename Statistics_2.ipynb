{
 "cells": [
  {
   "cell_type": "markdown",
   "id": "deeba9a9",
   "metadata": {},
   "source": [
    "\n",
    "Mean<br>\n",
    "Median<br>\n",
    "Mode<br>\n",
    "Variance<br>\n",
    "Standard Deviation<br>\n",
    "Correlation<br>\n",
    "Normal Distribution (use references)<br>\n",
    "Feature of Normal Distribution<br>\n",
    "Positively Skewed & Negatively Skewed Normal Distribution"
   ]
  },
  {
   "cell_type": "code",
   "execution_count": 125,
   "id": "89adea65",
   "metadata": {},
   "outputs": [],
   "source": [
    "import pandas as pd"
   ]
  },
  {
   "cell_type": "code",
   "execution_count": 3,
   "id": "064e2073",
   "metadata": {},
   "outputs": [],
   "source": [
    "#Load the csv dataset\n",
    "df=pd.read_csv('E:\\Csv file\\data2.csv')"
   ]
  },
  {
   "cell_type": "code",
   "execution_count": 6,
   "id": "e6499857",
   "metadata": {},
   "outputs": [
    {
     "data": {
      "text/html": [
       "<div>\n",
       "<style scoped>\n",
       "    .dataframe tbody tr th:only-of-type {\n",
       "        vertical-align: middle;\n",
       "    }\n",
       "\n",
       "    .dataframe tbody tr th {\n",
       "        vertical-align: top;\n",
       "    }\n",
       "\n",
       "    .dataframe thead th {\n",
       "        text-align: right;\n",
       "    }\n",
       "</style>\n",
       "<table border=\"1\" class=\"dataframe\">\n",
       "  <thead>\n",
       "    <tr style=\"text-align: right;\">\n",
       "      <th></th>\n",
       "      <th>Mthly_HH_Income</th>\n",
       "      <th>Mthly_HH_Expense</th>\n",
       "      <th>No_of_Fly_Members</th>\n",
       "      <th>Emi_or_Rent_Amt</th>\n",
       "      <th>Annual_HH_Income</th>\n",
       "      <th>Highest_Qualified_Member</th>\n",
       "      <th>No_of_Earning_Members</th>\n",
       "    </tr>\n",
       "  </thead>\n",
       "  <tbody>\n",
       "    <tr>\n",
       "      <th>0</th>\n",
       "      <td>5000</td>\n",
       "      <td>8000</td>\n",
       "      <td>3</td>\n",
       "      <td>2000</td>\n",
       "      <td>64200</td>\n",
       "      <td>Under-Graduate</td>\n",
       "      <td>1</td>\n",
       "    </tr>\n",
       "    <tr>\n",
       "      <th>1</th>\n",
       "      <td>6000</td>\n",
       "      <td>7000</td>\n",
       "      <td>2</td>\n",
       "      <td>3000</td>\n",
       "      <td>79920</td>\n",
       "      <td>Illiterate</td>\n",
       "      <td>1</td>\n",
       "    </tr>\n",
       "    <tr>\n",
       "      <th>2</th>\n",
       "      <td>10000</td>\n",
       "      <td>4500</td>\n",
       "      <td>2</td>\n",
       "      <td>0</td>\n",
       "      <td>112800</td>\n",
       "      <td>Under-Graduate</td>\n",
       "      <td>1</td>\n",
       "    </tr>\n",
       "    <tr>\n",
       "      <th>3</th>\n",
       "      <td>10000</td>\n",
       "      <td>2000</td>\n",
       "      <td>1</td>\n",
       "      <td>0</td>\n",
       "      <td>97200</td>\n",
       "      <td>Illiterate</td>\n",
       "      <td>1</td>\n",
       "    </tr>\n",
       "    <tr>\n",
       "      <th>4</th>\n",
       "      <td>12500</td>\n",
       "      <td>12000</td>\n",
       "      <td>2</td>\n",
       "      <td>3000</td>\n",
       "      <td>147000</td>\n",
       "      <td>Graduate</td>\n",
       "      <td>1</td>\n",
       "    </tr>\n",
       "    <tr>\n",
       "      <th>5</th>\n",
       "      <td>14000</td>\n",
       "      <td>8000</td>\n",
       "      <td>2</td>\n",
       "      <td>0</td>\n",
       "      <td>196560</td>\n",
       "      <td>Graduate</td>\n",
       "      <td>1</td>\n",
       "    </tr>\n",
       "    <tr>\n",
       "      <th>6</th>\n",
       "      <td>15000</td>\n",
       "      <td>16000</td>\n",
       "      <td>3</td>\n",
       "      <td>35000</td>\n",
       "      <td>167400</td>\n",
       "      <td>Post-Graduate</td>\n",
       "      <td>1</td>\n",
       "    </tr>\n",
       "    <tr>\n",
       "      <th>7</th>\n",
       "      <td>18000</td>\n",
       "      <td>20000</td>\n",
       "      <td>5</td>\n",
       "      <td>8000</td>\n",
       "      <td>216000</td>\n",
       "      <td>Graduate</td>\n",
       "      <td>1</td>\n",
       "    </tr>\n",
       "    <tr>\n",
       "      <th>8</th>\n",
       "      <td>19000</td>\n",
       "      <td>9000</td>\n",
       "      <td>2</td>\n",
       "      <td>0</td>\n",
       "      <td>218880</td>\n",
       "      <td>Under-Graduate</td>\n",
       "      <td>1</td>\n",
       "    </tr>\n",
       "    <tr>\n",
       "      <th>9</th>\n",
       "      <td>20000</td>\n",
       "      <td>9000</td>\n",
       "      <td>4</td>\n",
       "      <td>0</td>\n",
       "      <td>220800</td>\n",
       "      <td>Under-Graduate</td>\n",
       "      <td>2</td>\n",
       "    </tr>\n",
       "  </tbody>\n",
       "</table>\n",
       "</div>"
      ],
      "text/plain": [
       "   Mthly_HH_Income  Mthly_HH_Expense  No_of_Fly_Members  Emi_or_Rent_Amt  \\\n",
       "0             5000              8000                  3             2000   \n",
       "1             6000              7000                  2             3000   \n",
       "2            10000              4500                  2                0   \n",
       "3            10000              2000                  1                0   \n",
       "4            12500             12000                  2             3000   \n",
       "5            14000              8000                  2                0   \n",
       "6            15000             16000                  3            35000   \n",
       "7            18000             20000                  5             8000   \n",
       "8            19000              9000                  2                0   \n",
       "9            20000              9000                  4                0   \n",
       "\n",
       "   Annual_HH_Income Highest_Qualified_Member  No_of_Earning_Members  \n",
       "0             64200           Under-Graduate                      1  \n",
       "1             79920               Illiterate                      1  \n",
       "2            112800           Under-Graduate                      1  \n",
       "3             97200               Illiterate                      1  \n",
       "4            147000                 Graduate                      1  \n",
       "5            196560                 Graduate                      1  \n",
       "6            167400            Post-Graduate                      1  \n",
       "7            216000                 Graduate                      1  \n",
       "8            218880           Under-Graduate                      1  \n",
       "9            220800           Under-Graduate                      2  "
      ]
     },
     "execution_count": 6,
     "metadata": {},
     "output_type": "execute_result"
    }
   ],
   "source": [
    "#Printing the first 10 rows.\n",
    "df.head(10)"
   ]
  },
  {
   "cell_type": "code",
   "execution_count": 7,
   "id": "9fd1ec99",
   "metadata": {},
   "outputs": [
    {
     "data": {
      "text/html": [
       "<div>\n",
       "<style scoped>\n",
       "    .dataframe tbody tr th:only-of-type {\n",
       "        vertical-align: middle;\n",
       "    }\n",
       "\n",
       "    .dataframe tbody tr th {\n",
       "        vertical-align: top;\n",
       "    }\n",
       "\n",
       "    .dataframe thead th {\n",
       "        text-align: right;\n",
       "    }\n",
       "</style>\n",
       "<table border=\"1\" class=\"dataframe\">\n",
       "  <thead>\n",
       "    <tr style=\"text-align: right;\">\n",
       "      <th></th>\n",
       "      <th>Mthly_HH_Income</th>\n",
       "      <th>Mthly_HH_Expense</th>\n",
       "      <th>No_of_Fly_Members</th>\n",
       "      <th>Emi_or_Rent_Amt</th>\n",
       "      <th>Annual_HH_Income</th>\n",
       "      <th>No_of_Earning_Members</th>\n",
       "    </tr>\n",
       "  </thead>\n",
       "  <tbody>\n",
       "    <tr>\n",
       "      <th>count</th>\n",
       "      <td>50.000000</td>\n",
       "      <td>50.000000</td>\n",
       "      <td>50.000000</td>\n",
       "      <td>50.000000</td>\n",
       "      <td>5.000000e+01</td>\n",
       "      <td>50.000000</td>\n",
       "    </tr>\n",
       "    <tr>\n",
       "      <th>mean</th>\n",
       "      <td>41558.000000</td>\n",
       "      <td>18818.000000</td>\n",
       "      <td>4.060000</td>\n",
       "      <td>3060.000000</td>\n",
       "      <td>4.900190e+05</td>\n",
       "      <td>1.460000</td>\n",
       "    </tr>\n",
       "    <tr>\n",
       "      <th>std</th>\n",
       "      <td>26097.908979</td>\n",
       "      <td>12090.216824</td>\n",
       "      <td>1.517382</td>\n",
       "      <td>6241.434948</td>\n",
       "      <td>3.201358e+05</td>\n",
       "      <td>0.734291</td>\n",
       "    </tr>\n",
       "    <tr>\n",
       "      <th>min</th>\n",
       "      <td>5000.000000</td>\n",
       "      <td>2000.000000</td>\n",
       "      <td>1.000000</td>\n",
       "      <td>0.000000</td>\n",
       "      <td>6.420000e+04</td>\n",
       "      <td>1.000000</td>\n",
       "    </tr>\n",
       "    <tr>\n",
       "      <th>25%</th>\n",
       "      <td>23550.000000</td>\n",
       "      <td>10000.000000</td>\n",
       "      <td>3.000000</td>\n",
       "      <td>0.000000</td>\n",
       "      <td>2.587500e+05</td>\n",
       "      <td>1.000000</td>\n",
       "    </tr>\n",
       "    <tr>\n",
       "      <th>50%</th>\n",
       "      <td>35000.000000</td>\n",
       "      <td>15500.000000</td>\n",
       "      <td>4.000000</td>\n",
       "      <td>0.000000</td>\n",
       "      <td>4.474200e+05</td>\n",
       "      <td>1.000000</td>\n",
       "    </tr>\n",
       "    <tr>\n",
       "      <th>75%</th>\n",
       "      <td>50375.000000</td>\n",
       "      <td>25000.000000</td>\n",
       "      <td>5.000000</td>\n",
       "      <td>3500.000000</td>\n",
       "      <td>5.947200e+05</td>\n",
       "      <td>2.000000</td>\n",
       "    </tr>\n",
       "    <tr>\n",
       "      <th>max</th>\n",
       "      <td>100000.000000</td>\n",
       "      <td>50000.000000</td>\n",
       "      <td>7.000000</td>\n",
       "      <td>35000.000000</td>\n",
       "      <td>1.404000e+06</td>\n",
       "      <td>4.000000</td>\n",
       "    </tr>\n",
       "  </tbody>\n",
       "</table>\n",
       "</div>"
      ],
      "text/plain": [
       "       Mthly_HH_Income  Mthly_HH_Expense  No_of_Fly_Members  Emi_or_Rent_Amt  \\\n",
       "count        50.000000         50.000000          50.000000        50.000000   \n",
       "mean      41558.000000      18818.000000           4.060000      3060.000000   \n",
       "std       26097.908979      12090.216824           1.517382      6241.434948   \n",
       "min        5000.000000       2000.000000           1.000000         0.000000   \n",
       "25%       23550.000000      10000.000000           3.000000         0.000000   \n",
       "50%       35000.000000      15500.000000           4.000000         0.000000   \n",
       "75%       50375.000000      25000.000000           5.000000      3500.000000   \n",
       "max      100000.000000      50000.000000           7.000000     35000.000000   \n",
       "\n",
       "       Annual_HH_Income  No_of_Earning_Members  \n",
       "count      5.000000e+01              50.000000  \n",
       "mean       4.900190e+05               1.460000  \n",
       "std        3.201358e+05               0.734291  \n",
       "min        6.420000e+04               1.000000  \n",
       "25%        2.587500e+05               1.000000  \n",
       "50%        4.474200e+05               1.000000  \n",
       "75%        5.947200e+05               2.000000  \n",
       "max        1.404000e+06               4.000000  "
      ]
     },
     "execution_count": 7,
     "metadata": {},
     "output_type": "execute_result"
    }
   ],
   "source": [
    "#Describing the dataset.\n",
    "df.describe()"
   ]
  },
  {
   "cell_type": "code",
   "execution_count": 9,
   "id": "25331ce2",
   "metadata": {},
   "outputs": [
    {
     "name": "stdout",
     "output_type": "stream",
     "text": [
      "<class 'pandas.core.frame.DataFrame'>\n",
      "RangeIndex: 50 entries, 0 to 49\n",
      "Data columns (total 7 columns):\n",
      " #   Column                    Non-Null Count  Dtype \n",
      "---  ------                    --------------  ----- \n",
      " 0   Mthly_HH_Income           50 non-null     int64 \n",
      " 1   Mthly_HH_Expense          50 non-null     int64 \n",
      " 2   No_of_Fly_Members         50 non-null     int64 \n",
      " 3   Emi_or_Rent_Amt           50 non-null     int64 \n",
      " 4   Annual_HH_Income          50 non-null     int64 \n",
      " 5   Highest_Qualified_Member  50 non-null     object\n",
      " 6   No_of_Earning_Members     50 non-null     int64 \n",
      "dtypes: int64(6), object(1)\n",
      "memory usage: 2.9+ KB\n"
     ]
    }
   ],
   "source": [
    "#Dataset information\n",
    "df.info()"
   ]
  },
  {
   "cell_type": "code",
   "execution_count": 13,
   "id": "3698bd3b",
   "metadata": {},
   "outputs": [
    {
     "data": {
      "text/plain": [
       "Index(['Mthly_HH_Income', 'Mthly_HH_Expense', 'No_of_Fly_Members',\n",
       "       'Emi_or_Rent_Amt', 'Annual_HH_Income', 'Highest_Qualified_Member',\n",
       "       'No_of_Earning_Members'],\n",
       "      dtype='object')"
      ]
     },
     "execution_count": 13,
     "metadata": {},
     "output_type": "execute_result"
    }
   ],
   "source": [
    "#printing the columns of the dataset.\n",
    "df.columns"
   ]
  },
  {
   "cell_type": "code",
   "execution_count": 16,
   "id": "a476a8e5",
   "metadata": {},
   "outputs": [
    {
     "data": {
      "text/plain": [
       "Mthly_HH_Income             0\n",
       "Mthly_HH_Expense            0\n",
       "No_of_Fly_Members           0\n",
       "Emi_or_Rent_Amt             0\n",
       "Annual_HH_Income            0\n",
       "Highest_Qualified_Member    0\n",
       "No_of_Earning_Members       0\n",
       "dtype: int64"
      ]
     },
     "execution_count": 16,
     "metadata": {},
     "output_type": "execute_result"
    }
   ],
   "source": [
    "#check if there exist null values.\n",
    "df.isnull().sum()"
   ]
  },
  {
   "cell_type": "code",
   "execution_count": 20,
   "id": "1e306fb0",
   "metadata": {},
   "outputs": [
    {
     "name": "stdout",
     "output_type": "stream",
     "text": [
      "0     False\n",
      "1     False\n",
      "2     False\n",
      "3     False\n",
      "4     False\n",
      "5     False\n",
      "6     False\n",
      "7     False\n",
      "8     False\n",
      "9     False\n",
      "10    False\n",
      "11    False\n",
      "12    False\n",
      "13    False\n",
      "14    False\n",
      "15    False\n",
      "16    False\n",
      "17    False\n",
      "18    False\n",
      "19    False\n",
      "20    False\n",
      "21    False\n",
      "22    False\n",
      "23    False\n",
      "24    False\n",
      "25    False\n",
      "26    False\n",
      "27    False\n",
      "28    False\n",
      "29    False\n",
      "30    False\n",
      "31    False\n",
      "32    False\n",
      "33    False\n",
      "34    False\n",
      "35    False\n",
      "36    False\n",
      "37    False\n",
      "38    False\n",
      "39    False\n",
      "40    False\n",
      "41    False\n",
      "42    False\n",
      "43    False\n",
      "44    False\n",
      "45    False\n",
      "46    False\n",
      "47    False\n",
      "48    False\n",
      "49    False\n",
      "dtype: bool\n"
     ]
    }
   ],
   "source": [
    "#check if there exist duplicate value or not.\n",
    "print(df.duplicated())"
   ]
  },
  {
   "cell_type": "markdown",
   "id": "b9ccc6f3",
   "metadata": {},
   "source": [
    "<center><h1><font color=\"red\">Measures of Central Tendency</font></h1><br>\n",
    "The measures of central tendency show the central or middle values of datasets. </center>"
   ]
  },
  {
   "cell_type": "markdown",
   "id": "8921e56c",
   "metadata": {},
   "source": [
    "<h1><font color=\"blue\">Calculate Mean</font></h1><br>\n",
    "Mean=Avarage value"
   ]
  },
  {
   "cell_type": "code",
   "execution_count": 29,
   "id": "eda216c2",
   "metadata": {},
   "outputs": [
    {
     "name": "stdout",
     "output_type": "stream",
     "text": [
      "[5000, 6000, 10000, 10000, 12500, 14000, 15000, 18000, 19000, 20000, 20000, 22000, 23400, 24000, 24000, 25000, 25000, 25000, 29000, 30000, 30500, 32000, 34000, 34000, 35000, 35000, 39000, 40000, 42000, 43000, 45000, 45000, 45000, 45000, 46000, 47000, 50000, 50500, 55000, 60000, 60000, 65000, 70000, 80000, 85000, 90000, 98000, 100000, 100000, 100000]\n"
     ]
    }
   ],
   "source": [
    "#Appeding the column(Mthly_HH_Income) value in a list \n",
    "a=[]\n",
    "for i in df.Mthly_HH_Income:\n",
    "    a.append(i)\n",
    "print(a) "
   ]
  },
  {
   "cell_type": "code",
   "execution_count": 51,
   "id": "c10bade1",
   "metadata": {},
   "outputs": [
    {
     "name": "stdout",
     "output_type": "stream",
     "text": [
      "The mean value for first column is:: 41558.0\n"
     ]
    }
   ],
   "source": [
    "#Calculate mean without using mean()function.\n",
    "sum=0\n",
    "for i in range(len(a)):\n",
    "    sum=sum+a[i]\n",
    "m=sum/len(a)\n",
    "print(\"The mean value for first column is::\",m)"
   ]
  },
  {
   "cell_type": "code",
   "execution_count": 34,
   "id": "63fd2222",
   "metadata": {},
   "outputs": [
    {
     "data": {
      "text/plain": [
       "41558.0"
      ]
     },
     "execution_count": 34,
     "metadata": {},
     "output_type": "execute_result"
    }
   ],
   "source": [
    "#Calculate mean using mean()function.\n",
    "df.Mthly_HH_Income.mean()"
   ]
  },
  {
   "cell_type": "code",
   "execution_count": 35,
   "id": "4097c84c",
   "metadata": {},
   "outputs": [
    {
     "name": "stdout",
     "output_type": "stream",
     "text": [
      "[8000, 7000, 4500, 2000, 12000, 8000, 16000, 20000, 9000, 9000, 18000, 25000, 5000, 10500, 10000, 12300, 20000, 10000, 6600, 13000, 25000, 15000, 19000, 25000, 12000, 25000, 8000, 10000, 15000, 12000, 25000, 40000, 10000, 22000, 25000, 15000, 20000, 20000, 45000, 10000, 50000, 20000, 9000, 20000, 25000, 48000, 25000, 30000, 50000, 40000]\n"
     ]
    }
   ],
   "source": [
    "#Appending 2nd column(Mthly_HH_Expense) in a list.\n",
    "a=[]\n",
    "for i in df.Mthly_HH_Expense:\n",
    "    a.append(i)\n",
    "print(a)    "
   ]
  },
  {
   "cell_type": "code",
   "execution_count": 37,
   "id": "2d212af5",
   "metadata": {},
   "outputs": [
    {
     "name": "stdout",
     "output_type": "stream",
     "text": [
      "Mean for second column is:: 18818.0\n"
     ]
    }
   ],
   "source": [
    "#Calculate mean without using mean() function for 2nd column.\n",
    "sum=0\n",
    "for i in range(len(a)):\n",
    "    sum=sum+a[i]\n",
    "m=sum/len(a)\n",
    "print(\"Mean for second column is::\",m)"
   ]
  },
  {
   "cell_type": "code",
   "execution_count": 39,
   "id": "e59c0847",
   "metadata": {},
   "outputs": [
    {
     "data": {
      "text/plain": [
       "18818.0"
      ]
     },
     "execution_count": 39,
     "metadata": {},
     "output_type": "execute_result"
    }
   ],
   "source": [
    "#Calculate Mean using mean()function for \n",
    "df.Mthly_HH_Expense.mean()"
   ]
  },
  {
   "cell_type": "markdown",
   "id": "cb109e26",
   "metadata": {},
   "source": [
    "<h1><font color=\"blue\">Calculate Median</font></h1><br>\n",
    "Median=Medium value"
   ]
  },
  {
   "cell_type": "code",
   "execution_count": null,
   "id": "94b25d56",
   "metadata": {},
   "outputs": [],
   "source": []
  },
  {
   "cell_type": "code",
   "execution_count": 105,
   "id": "f017a68c",
   "metadata": {},
   "outputs": [
    {
     "name": "stdout",
     "output_type": "stream",
     "text": [
      "[5000, 6000, 10000, 10000, 12500, 14000, 15000, 18000, 19000, 20000, 20000, 22000, 23400, 24000, 24000, 25000, 25000, 25000, 29000, 30000, 30500, 32000, 34000, 34000, 35000, 35000, 39000, 40000, 42000, 43000, 45000, 45000, 45000, 45000, 46000, 47000, 50000, 50500, 55000, 60000, 60000, 65000, 70000, 80000, 85000, 90000, 98000, 100000, 100000, 100000]\n"
     ]
    }
   ],
   "source": [
    "#Appending first column in a list.\n",
    "a=[]\n",
    "for i in df.Mthly_HH_Income:\n",
    "    a.append(i)\n",
    "print(a) "
   ]
  },
  {
   "cell_type": "code",
   "execution_count": 106,
   "id": "9cd902ec",
   "metadata": {},
   "outputs": [
    {
     "name": "stdout",
     "output_type": "stream",
     "text": [
      "25 24\n",
      "Median value for 1st column:: 35000.0\n"
     ]
    }
   ],
   "source": [
    "#Calculate Median value for first column without using median()function.\n",
    "a.sort()\n",
    "if len(a)%2==0:\n",
    "    m=len(a)//2 #25\n",
    "    m1=m-1 #24\n",
    "    print(m,m1)\n",
    "    med=(a[m]+a[m1])/2\n",
    "print(\"Median value for 1st column::\",med)    "
   ]
  },
  {
   "cell_type": "code",
   "execution_count": 122,
   "id": "81faca97",
   "metadata": {},
   "outputs": [
    {
     "data": {
      "text/plain": [
       "35000.0"
      ]
     },
     "execution_count": 122,
     "metadata": {},
     "output_type": "execute_result"
    }
   ],
   "source": [
    "#Calculate median for 1st column without using function.\n",
    "df.Mthly_HH_Income.median()"
   ]
  },
  {
   "cell_type": "code",
   "execution_count": 115,
   "id": "ac37a4e0",
   "metadata": {},
   "outputs": [
    {
     "name": "stdout",
     "output_type": "stream",
     "text": [
      "[8000, 7000, 4500, 2000, 12000, 8000, 16000, 20000, 9000, 9000, 18000, 25000, 5000, 10500, 10000, 12300, 20000, 10000, 6600, 13000, 25000, 15000, 19000, 25000, 12000, 25000, 8000, 10000, 15000, 12000, 25000, 40000, 10000, 22000, 25000, 15000, 20000, 20000, 45000, 10000, 50000, 20000, 9000, 20000, 25000, 48000, 25000, 30000, 50000, 40000]\n",
      "/n\n",
      "After sorting:: [2000, 4500, 5000, 6600, 7000, 8000, 8000, 8000, 9000, 9000, 9000, 10000, 10000, 10000, 10000, 10000, 10500, 12000, 12000, 12000, 12300, 13000, 15000, 15000, 15000, 16000, 18000, 19000, 20000, 20000, 20000, 20000, 20000, 20000, 22000, 25000, 25000, 25000, 25000, 25000, 25000, 25000, 25000, 30000, 40000, 40000, 45000, 48000, 50000, 50000]\n",
      "50\n"
     ]
    }
   ],
   "source": [
    "#Appending 2nd column in a list.\n",
    "b=[]\n",
    "for i in df.Mthly_HH_Expense:\n",
    "    b.append(i)\n",
    "print(b) \n",
    "print(\"/n\")\n",
    "b.sort()\n",
    "print(\"After sorting::\",b)\n",
    "print(len(b))"
   ]
  },
  {
   "cell_type": "code",
   "execution_count": 128,
   "id": "7dea8fe6",
   "metadata": {},
   "outputs": [
    {
     "name": "stdout",
     "output_type": "stream",
     "text": [
      "25 24\n",
      "Median for 2nd column is:: 15500.0\n"
     ]
    }
   ],
   "source": [
    "#Calculate median value for 2nd column without using median() function .\n",
    "if len(b)%2==0:\n",
    "    m=len(b)//2\n",
    "    m1=m-1\n",
    "    print(m,m1)\n",
    "    m2=(b[m]+b[m1])/2\n",
    "print(\"Median for 2nd column is::\",m2)   "
   ]
  },
  {
   "cell_type": "code",
   "execution_count": 127,
   "id": "cd811099",
   "metadata": {},
   "outputs": [
    {
     "data": {
      "text/plain": [
       "15500.0"
      ]
     },
     "execution_count": 127,
     "metadata": {},
     "output_type": "execute_result"
    }
   ],
   "source": [
    "df.Mthly_HH_Expense.median()"
   ]
  },
  {
   "cell_type": "markdown",
   "id": "ebca399b",
   "metadata": {},
   "source": [
    "<h1><font color=\"Blue\">Calculate Mode</h1>"
   ]
  },
  {
   "cell_type": "code",
   "execution_count": 244,
   "id": "fb713bcf",
   "metadata": {},
   "outputs": [
    {
     "name": "stdout",
     "output_type": "stream",
     "text": [
      "{1: 4, 2: 1, 3: 1, 5: 1, 7: 1, 9: 1, 8: 1}\n"
     ]
    }
   ],
   "source": [
    "#Calculate mode without using mode()function. \n",
    "a=[1,2,3,1,5,7,9,8,1,1]\n",
    "d={}\n",
    "for i in a:\n",
    "    if(i in d):\n",
    "        d[i]=d[i]+1\n",
    "    else:\n",
    "        d[i]=1\n",
    "print(d)        "
   ]
  },
  {
   "cell_type": "code",
   "execution_count": 254,
   "id": "40a64433",
   "metadata": {},
   "outputs": [
    {
     "name": "stdout",
     "output_type": "stream",
     "text": [
      "4\n"
     ]
    }
   ],
   "source": [
    "#Maximum value of key.\n",
    "m=max(d.values())\n",
    "print(m)"
   ]
  },
  {
   "cell_type": "code",
   "execution_count": 262,
   "id": "1eb8f442",
   "metadata": {},
   "outputs": [
    {
     "name": "stdout",
     "output_type": "stream",
     "text": [
      "Mode== 1\n"
     ]
    }
   ],
   "source": [
    "#Accessing the key by the maximum value.\n",
    "for key,value in d.items():\n",
    "   # print(key,value)\n",
    "    if (m==value):\n",
    "        print(\"Mode==\",key)"
   ]
  },
  {
   "cell_type": "code",
   "execution_count": null,
   "id": "73d228dd",
   "metadata": {},
   "outputs": [],
   "source": [
    "#Calculate mode value in the dataset for 1st column()without using mode()function."
   ]
  },
  {
   "cell_type": "code",
   "execution_count": 263,
   "id": "f02817a2",
   "metadata": {},
   "outputs": [
    {
     "name": "stdout",
     "output_type": "stream",
     "text": [
      "[5000, 6000, 10000, 10000, 12500, 14000, 15000, 18000, 19000, 20000, 20000, 22000, 23400, 24000, 24000, 25000, 25000, 25000, 29000, 30000, 30500, 32000, 34000, 34000, 35000, 35000, 39000, 40000, 42000, 43000, 45000, 45000, 45000, 45000, 46000, 47000, 50000, 50500, 55000, 60000, 60000, 65000, 70000, 80000, 85000, 90000, 98000, 100000, 100000, 100000]\n"
     ]
    }
   ],
   "source": [
    "#Appending 1st column data in a list.\n",
    "li=[]\n",
    "for i in df.Mthly_HH_Income:\n",
    "    li.append(i)\n",
    "print(li)      "
   ]
  },
  {
   "cell_type": "code",
   "execution_count": 270,
   "id": "6b4b116f",
   "metadata": {},
   "outputs": [
    {
     "name": "stdout",
     "output_type": "stream",
     "text": [
      "{5000: 1, 6000: 1, 10000: 2, 12500: 1, 14000: 1, 15000: 1, 18000: 1, 19000: 1, 20000: 2, 22000: 1, 23400: 1, 24000: 2, 25000: 3, 29000: 1, 30000: 1, 30500: 1, 32000: 1, 34000: 2, 35000: 2, 39000: 1, 40000: 1, 42000: 1, 43000: 1, 45000: 4, 46000: 1, 47000: 1, 50000: 1, 50500: 1, 55000: 1, 60000: 2, 65000: 1, 70000: 1, 80000: 1, 85000: 1, 90000: 1, 98000: 1, 100000: 3}\n",
      "Maximum value is== 4\n"
     ]
    }
   ],
   "source": [
    "#Adding and counting key and values in a dictonary.\n",
    "d1={}\n",
    "for i in li:\n",
    "    if(i in d1):\n",
    "        d1[i]=d1[i]+1\n",
    "    else:\n",
    "        d1[i]=1\n",
    "print(d1) \n",
    "m1=max(d1.values())\n",
    "print(\"Maximum value is==\",m1)"
   ]
  },
  {
   "cell_type": "code",
   "execution_count": 271,
   "id": "483a6196",
   "metadata": {},
   "outputs": [
    {
     "name": "stdout",
     "output_type": "stream",
     "text": [
      "Mode== 45000\n"
     ]
    }
   ],
   "source": [
    "#Accessing key by max value.\n",
    "for key,value in d1.items():\n",
    "    if m1==value:\n",
    "        print(\"Mode==\",key)"
   ]
  },
  {
   "cell_type": "code",
   "execution_count": 274,
   "id": "06e4917d",
   "metadata": {},
   "outputs": [
    {
     "name": "stdout",
     "output_type": "stream",
     "text": [
      "Mode== 45000\n"
     ]
    }
   ],
   "source": [
    "#Calculate mode using mode()function.\n",
    "m3=statistics.mode(li)\n",
    "print(\"Mode==\",m3)"
   ]
  },
  {
   "cell_type": "markdown",
   "id": "39950950",
   "metadata": {},
   "source": [
    "<center><h1><font color=\"red\">Measures of Variability</font></h1><br>\n",
    "The measures of central tendency aren’t sufficient to describe data. You’ll also need the measures of variability that quantify the spread of data points.</center>\n",
    "<ul>\n",
    "    <li>Variance</li>\n",
    "    <li>Standard deviation</li>\n",
    "    <li>Skewness</li>\n",
    "    <li>Percentiles</li>\n",
    "    <li>Ranges</li></ul>    "
   ]
  },
  {
   "cell_type": "markdown",
   "id": "32663080",
   "metadata": {},
   "source": [
    "<h1><font color=\"blue\"> Variance</font></h1><br>\n",
    "The sample variance quantifies the spread of the data. It shows numerically how far the data points are from the mean. You can express the sample variance of the dataset 𝑥 with 𝑛 elements mathematically as 𝑠² = Σᵢ(𝑥ᵢ − mean(𝑥))² / (𝑛 − 1), where 𝑖 = 1, 2, …, 𝑛 and mean(𝑥) is the sample mean of 𝑥.There are two types of variance.<br>1.Simple Variance<br>2.Population Variance"
   ]
  },
  {
   "cell_type": "markdown",
   "id": "c95914ca",
   "metadata": {},
   "source": [
    "<h3>Simple Variance</h3>"
   ]
  },
  {
   "cell_type": "code",
   "execution_count": 272,
   "id": "f077bde1",
   "metadata": {},
   "outputs": [],
   "source": [
    "import math\n",
    "import statistics\n",
    "import numpy as np\n",
    "import scipy.stats"
   ]
  },
  {
   "cell_type": "code",
   "execution_count": 210,
   "id": "483c6846",
   "metadata": {},
   "outputs": [
    {
     "name": "stdout",
     "output_type": "stream",
     "text": [
      "Mean== 8.7\n",
      "Variance== 123.19999999999999\n"
     ]
    },
    {
     "name": "stderr",
     "output_type": "stream",
     "text": [
      "C:\\Users\\azada\\AppData\\Local\\Temp/ipykernel_11252/1640920152.py:8: DeprecationWarning: Calling np.sum(generator) is deprecated, and in the future will give a different result. Use np.sum(np.fromiter(generator)) or the python sum builtin instead.\n",
      "  var=np.sum((item-mean_)**2 for item in x )/(len(x)-1) #Formula for variance.\n"
     ]
    }
   ],
   "source": [
    "#Calculating variance without using function for this below list.\n",
    "x=[8.0, 1, 2.5, 4, 28.0]\n",
    "sum=0\n",
    "for i in range(len(x)):\n",
    "    sum=sum+x[i]\n",
    "mean_=sum/len(x)\n",
    "print(\"Mean==\",mean_)\n",
    "var=np.sum((item-mean_)**2 for item in x )/(len(x)-1) #Formula for variance.\n",
    "print(\"Variance==\",var)"
   ]
  },
  {
   "cell_type": "code",
   "execution_count": 186,
   "id": "13df2a16",
   "metadata": {},
   "outputs": [
    {
     "data": {
      "text/plain": [
       "123.2"
      ]
     },
     "execution_count": 186,
     "metadata": {},
     "output_type": "execute_result"
    }
   ],
   "source": [
    "# calculating variance for this list using variance()function.\n",
    "x=[8.0, 1, 2.5, 4, 28.0]\n",
    "var=statistics.variance(x)\n",
    "var"
   ]
  },
  {
   "cell_type": "code",
   "execution_count": 196,
   "id": "685de679",
   "metadata": {},
   "outputs": [
    {
     "data": {
      "text/plain": [
       "Index(['Mthly_HH_Income', 'Mthly_HH_Expense', 'No_of_Fly_Members',\n",
       "       'Emi_or_Rent_Amt', 'Annual_HH_Income', 'Highest_Qualified_Member',\n",
       "       'No_of_Earning_Members'],\n",
       "      dtype='object')"
      ]
     },
     "execution_count": 196,
     "metadata": {},
     "output_type": "execute_result"
    }
   ],
   "source": [
    "df.columns"
   ]
  },
  {
   "cell_type": "code",
   "execution_count": 211,
   "id": "57bb92c0",
   "metadata": {},
   "outputs": [
    {
     "name": "stdout",
     "output_type": "stream",
     "text": [
      "[5000, 6000, 10000, 10000, 12500, 14000, 15000, 18000, 19000, 20000, 20000, 22000, 23400, 24000, 24000, 25000, 25000, 25000, 29000, 30000, 30500, 32000, 34000, 34000, 35000, 35000, 39000, 40000, 42000, 43000, 45000, 45000, 45000, 45000, 46000, 47000, 50000, 50500, 55000, 60000, 60000, 65000, 70000, 80000, 85000, 90000, 98000, 100000, 100000, 100000]\n",
      "Mean== 41558.0\n",
      "Variance== 681100853.0612245\n"
     ]
    },
    {
     "name": "stderr",
     "output_type": "stream",
     "text": [
      "C:\\Users\\azada\\AppData\\Local\\Temp/ipykernel_11252/2822518912.py:10: DeprecationWarning: Calling np.sum(generator) is deprecated, and in the future will give a different result. Use np.sum(np.fromiter(generator)) or the python sum builtin instead.\n",
      "  var10=np.sum((item-mean_)**2 for item in a)/(len(a)-1)\n"
     ]
    }
   ],
   "source": [
    "#Calculating simple variance for the dataset 1st column(Mthly_HH_Income) without using variance() function.\n",
    "a=[]\n",
    "for i in df.Mthly_HH_Income:\n",
    "    a.append(i)\n",
    "print(a) \n",
    "#calculate mean.\n",
    "mean_=np.sum(a)/len(a)\n",
    "print(\"Mean==\",mean_)\n",
    "#calculate variance.\n",
    "var10=np.sum((item-mean_)**2 for item in a)/(len(a)-1)\n",
    "print(\"Variance==\",var10)\n"
   ]
  },
  {
   "cell_type": "code",
   "execution_count": 205,
   "id": "4a13de63",
   "metadata": {},
   "outputs": [
    {
     "name": "stdout",
     "output_type": "stream",
     "text": [
      "Variance== 681100853.0612245\n"
     ]
    }
   ],
   "source": [
    "#Calculating simple variance using variance() function.\n",
    "var1=statistics.variance(a)\n",
    "print(\"Variance==\",var1)"
   ]
  },
  {
   "cell_type": "markdown",
   "id": "560f54ff",
   "metadata": {},
   "source": [
    "<h3>Population Variance</h3>\n",
    "<p>You calculate the population variance similarly to the sample variance. However, you have to use 𝑛 in the denominator instead of 𝑛 − 1: Σᵢ(𝑥ᵢ − mean(𝑥))² / 𝑛. In this case, 𝑛 is the number of items in the entire population. You can get the population variance similar to the sample variance, with the following differences:</p>\n",
    "<ul>\n",
    "    <li>Replace (n - 1) with n in the pure Python implementation.</li>\n",
    "    <li>Use statistics.pvariance() instead of statistics.variance().</li></ul"
   ]
  },
  {
   "cell_type": "code",
   "execution_count": 217,
   "id": "1448e33a",
   "metadata": {},
   "outputs": [
    {
     "name": "stdout",
     "output_type": "stream",
     "text": [
      "[5000, 6000, 10000, 10000, 12500, 14000, 15000, 18000, 19000, 20000, 20000, 22000, 23400, 24000, 24000, 25000, 25000, 25000, 29000, 30000, 30500, 32000, 34000, 34000, 35000, 35000, 39000, 40000, 42000, 43000, 45000, 45000, 45000, 45000, 46000, 47000, 50000, 50500, 55000, 60000, 60000, 65000, 70000, 80000, 85000, 90000, 98000, 100000, 100000, 100000]\n",
      "Mean== 41558.0\n",
      "Population Variance== 667478836.0\n"
     ]
    },
    {
     "name": "stderr",
     "output_type": "stream",
     "text": [
      "C:\\Users\\azada\\AppData\\Local\\Temp/ipykernel_11252/2370981297.py:10: DeprecationWarning: Calling np.sum(generator) is deprecated, and in the future will give a different result. Use np.sum(np.fromiter(generator)) or the python sum builtin instead.\n",
      "  var11=np.sum((item-mean_)**2 for item in a)/(len(a))\n"
     ]
    }
   ],
   "source": [
    "#Without using pvariance()function.\n",
    "a=[]\n",
    "for i in df.Mthly_HH_Income:\n",
    "    a.append(i)\n",
    "print(a) \n",
    "#calculate mean.\n",
    "mean_=np.sum(a)/len(a)\n",
    "print(\"Mean==\",mean_)\n",
    "#calculate variance.\n",
    "var11=np.sum((item-mean_)**2 for item in a)/(len(a))\n",
    "print(\"Population Variance==\",var11)\n"
   ]
  },
  {
   "cell_type": "code",
   "execution_count": 207,
   "id": "6dc4418a",
   "metadata": {},
   "outputs": [
    {
     "name": "stdout",
     "output_type": "stream",
     "text": [
      "667478836\n"
     ]
    }
   ],
   "source": [
    "#Using pvariance() function,calculate population variance.\n",
    "var1=statistics.pvariance(a)\n",
    "print(var1)"
   ]
  },
  {
   "cell_type": "markdown",
   "id": "db105339",
   "metadata": {},
   "source": [
    "<h1><font color=\"blue\">Standard Deviation</font></h1>\n",
    "<p>The sample standard deviation is another measure of data spread. It’s connected to the sample variance, as standard deviation, 𝑠, is the positive square root of the sample variance. The standard deviation is often more convenient than the variance because it has the same unit as the data points. Once you get the variance, you can calculate the standard deviation with pure Python:</p>"
   ]
  },
  {
   "cell_type": "markdown",
   "id": "d58bfd20",
   "metadata": {},
   "source": [
    "<h3>Simple Deviation</h3>"
   ]
  },
  {
   "cell_type": "code",
   "execution_count": 212,
   "id": "5050abd9",
   "metadata": {},
   "outputs": [
    {
     "name": "stdout",
     "output_type": "stream",
     "text": [
      "26097.908978713687\n"
     ]
    }
   ],
   "source": [
    "#Simple deviation without using stdev()function for the 1st column(Mthly_HH_Income)\n",
    "std=var10 ** 0.5 #var10 is simple variance...\n",
    "print(std)"
   ]
  },
  {
   "cell_type": "code",
   "execution_count": 213,
   "id": "6655d647",
   "metadata": {},
   "outputs": [
    {
     "name": "stdout",
     "output_type": "stream",
     "text": [
      "26097.908978713687\n"
     ]
    }
   ],
   "source": [
    "#Simple deviation using stdev()function.\n",
    "std1=statistics.stdev(a)\n",
    "print(std1)"
   ]
  },
  {
   "cell_type": "markdown",
   "id": "8c60bef9",
   "metadata": {},
   "source": [
    "<h3>Population Deviation</h3>\n",
    "<p>The population standard deviation refers to the entire population. It’s the positive square root of the population variance. You can calculate it just like the sample standard deviation, with the following differences:</p>\n",
    "<ul>\n",
    "    <li>Find the square root of the population variance in the pure Python implementation.</li>\n",
    "    <li><b>Use statistics.pstdev() instead of statistics.stdev()</b></li></ul>"
   ]
  },
  {
   "cell_type": "code",
   "execution_count": 218,
   "id": "971527ec",
   "metadata": {},
   "outputs": [
    {
     "name": "stdout",
     "output_type": "stream",
     "text": [
      "25835.611779092826\n"
     ]
    }
   ],
   "source": [
    "#Without using pstdev() function for 1st column(Mthly_HH_Income)\n",
    "std3=var11 ** 0.5\n",
    "print(std3)"
   ]
  },
  {
   "cell_type": "code",
   "execution_count": 214,
   "id": "aef95ec7",
   "metadata": {},
   "outputs": [
    {
     "name": "stdout",
     "output_type": "stream",
     "text": [
      "25835.611779092826\n"
     ]
    }
   ],
   "source": [
    "#Using function pstdev()function.\n",
    "std2=statistics.pstdev(a)\n",
    "print(std2)"
   ]
  },
  {
   "cell_type": "markdown",
   "id": "7b39eaf5",
   "metadata": {},
   "source": [
    "<h1><font color=\"blue\">Corelation</font></h1>"
   ]
  },
  {
   "cell_type": "code",
   "execution_count": 219,
   "id": "e3d1ff33",
   "metadata": {},
   "outputs": [
    {
     "data": {
      "text/html": [
       "<div>\n",
       "<style scoped>\n",
       "    .dataframe tbody tr th:only-of-type {\n",
       "        vertical-align: middle;\n",
       "    }\n",
       "\n",
       "    .dataframe tbody tr th {\n",
       "        vertical-align: top;\n",
       "    }\n",
       "\n",
       "    .dataframe thead th {\n",
       "        text-align: right;\n",
       "    }\n",
       "</style>\n",
       "<table border=\"1\" class=\"dataframe\">\n",
       "  <thead>\n",
       "    <tr style=\"text-align: right;\">\n",
       "      <th></th>\n",
       "      <th>Mthly_HH_Income</th>\n",
       "      <th>Mthly_HH_Expense</th>\n",
       "      <th>No_of_Fly_Members</th>\n",
       "      <th>Emi_or_Rent_Amt</th>\n",
       "      <th>Annual_HH_Income</th>\n",
       "      <th>No_of_Earning_Members</th>\n",
       "    </tr>\n",
       "  </thead>\n",
       "  <tbody>\n",
       "    <tr>\n",
       "      <th>Mthly_HH_Income</th>\n",
       "      <td>1.000000</td>\n",
       "      <td>0.649215</td>\n",
       "      <td>0.448317</td>\n",
       "      <td>0.036976</td>\n",
       "      <td>0.970315</td>\n",
       "      <td>0.347883</td>\n",
       "    </tr>\n",
       "    <tr>\n",
       "      <th>Mthly_HH_Expense</th>\n",
       "      <td>0.649215</td>\n",
       "      <td>1.000000</td>\n",
       "      <td>0.639702</td>\n",
       "      <td>0.405280</td>\n",
       "      <td>0.591222</td>\n",
       "      <td>0.311915</td>\n",
       "    </tr>\n",
       "    <tr>\n",
       "      <th>No_of_Fly_Members</th>\n",
       "      <td>0.448317</td>\n",
       "      <td>0.639702</td>\n",
       "      <td>1.000000</td>\n",
       "      <td>0.085808</td>\n",
       "      <td>0.430868</td>\n",
       "      <td>0.597482</td>\n",
       "    </tr>\n",
       "    <tr>\n",
       "      <th>Emi_or_Rent_Amt</th>\n",
       "      <td>0.036976</td>\n",
       "      <td>0.405280</td>\n",
       "      <td>0.085808</td>\n",
       "      <td>1.000000</td>\n",
       "      <td>0.002716</td>\n",
       "      <td>-0.097431</td>\n",
       "    </tr>\n",
       "    <tr>\n",
       "      <th>Annual_HH_Income</th>\n",
       "      <td>0.970315</td>\n",
       "      <td>0.591222</td>\n",
       "      <td>0.430868</td>\n",
       "      <td>0.002716</td>\n",
       "      <td>1.000000</td>\n",
       "      <td>0.296679</td>\n",
       "    </tr>\n",
       "    <tr>\n",
       "      <th>No_of_Earning_Members</th>\n",
       "      <td>0.347883</td>\n",
       "      <td>0.311915</td>\n",
       "      <td>0.597482</td>\n",
       "      <td>-0.097431</td>\n",
       "      <td>0.296679</td>\n",
       "      <td>1.000000</td>\n",
       "    </tr>\n",
       "  </tbody>\n",
       "</table>\n",
       "</div>"
      ],
      "text/plain": [
       "                       Mthly_HH_Income  Mthly_HH_Expense  No_of_Fly_Members  \\\n",
       "Mthly_HH_Income               1.000000          0.649215           0.448317   \n",
       "Mthly_HH_Expense              0.649215          1.000000           0.639702   \n",
       "No_of_Fly_Members             0.448317          0.639702           1.000000   \n",
       "Emi_or_Rent_Amt               0.036976          0.405280           0.085808   \n",
       "Annual_HH_Income              0.970315          0.591222           0.430868   \n",
       "No_of_Earning_Members         0.347883          0.311915           0.597482   \n",
       "\n",
       "                       Emi_or_Rent_Amt  Annual_HH_Income  \\\n",
       "Mthly_HH_Income               0.036976          0.970315   \n",
       "Mthly_HH_Expense              0.405280          0.591222   \n",
       "No_of_Fly_Members             0.085808          0.430868   \n",
       "Emi_or_Rent_Amt               1.000000          0.002716   \n",
       "Annual_HH_Income              0.002716          1.000000   \n",
       "No_of_Earning_Members        -0.097431          0.296679   \n",
       "\n",
       "                       No_of_Earning_Members  \n",
       "Mthly_HH_Income                     0.347883  \n",
       "Mthly_HH_Expense                    0.311915  \n",
       "No_of_Fly_Members                   0.597482  \n",
       "Emi_or_Rent_Amt                    -0.097431  \n",
       "Annual_HH_Income                    0.296679  \n",
       "No_of_Earning_Members               1.000000  "
      ]
     },
     "execution_count": 219,
     "metadata": {},
     "output_type": "execute_result"
    }
   ],
   "source": [
    "#co-relation\n",
    "df.corr()"
   ]
  },
  {
   "cell_type": "markdown",
   "id": "4f93409c",
   "metadata": {},
   "source": [
    "<h1><font color=\"blue\">Skewness</font></h1>\n",
    "<p>The sample skewness measures the asymmetry of a data sample.A simpler expression is<b> Σᵢ(𝑥ᵢ − mean(𝑥))³ 𝑛 / ((𝑛 − 1)(𝑛 − 2)𝑠³)</b>, where 𝑖 = 1, 2, …, 𝑛 and mean(𝑥) is the sample mean of 𝑥. The skewness defined like this is called the adjusted Fisher-Pearson standardized moment coefficient.</p>Once you’ve calculated the size of your dataset n, the sample mean mean1, and the standard deviation std1, you can get the sample skewness with pure Python:"
   ]
  },
  {
   "cell_type": "code",
   "execution_count": 237,
   "id": "4501cbce",
   "metadata": {},
   "outputs": [
    {
     "name": "stdout",
     "output_type": "stream",
     "text": [
      "[5000, 6000, 10000, 10000, 12500, 14000, 15000, 18000, 19000, 20000, 20000, 22000, 23400, 24000, 24000, 25000, 25000, 25000, 29000, 30000, 30500, 32000, 34000, 34000, 35000, 35000, 39000, 40000, 42000, 43000, 45000, 45000, 45000, 45000, 46000, 47000, 50000, 50500, 55000, 60000, 60000, 65000, 70000, 80000, 85000, 90000, 98000, 100000, 100000, 100000]\n",
      "Skew== 0.924614876377723\n"
     ]
    },
    {
     "name": "stderr",
     "output_type": "stream",
     "text": [
      "C:\\Users\\azada\\AppData\\Local\\Temp/ipykernel_11252/1578875506.py:9: DeprecationWarning: Calling np.sum(generator) is deprecated, and in the future will give a different result. Use np.sum(np.fromiter(generator)) or the python sum builtin instead.\n",
      "  skew1=np.sum((item -mean1)**3 for item in a)*n / ((n-1)*(n-2)*std1**3)\n"
     ]
    }
   ],
   "source": [
    "#Calculating the skew value without using skew() for 1st column(Mthly_HH_Income).\n",
    "a=[]\n",
    "for i in df.Mthly_HH_Income:\n",
    "    a.append(i)\n",
    "print(a)\n",
    "n=len(a)\n",
    "mean1=np.sum(a)/n\n",
    "std1=var1**0.5\n",
    "skew1=np.sum((item -mean1)**3 for item in a)*n / ((n-1)*(n-2)*std1**3)\n",
    "print(\"Skew==\",skew1)"
   ]
  },
  {
   "cell_type": "code",
   "execution_count": 236,
   "id": "4fbcb763",
   "metadata": {},
   "outputs": [
    {
     "data": {
      "text/plain": [
       "0.9246148763777229"
      ]
     },
     "execution_count": 236,
     "metadata": {},
     "output_type": "execute_result"
    }
   ],
   "source": [
    "#Calculate skew value using function.\n",
    "df.Mthly_HH_Income.skew()"
   ]
  },
  {
   "cell_type": "code",
   "execution_count": null,
   "id": "a48b95ce",
   "metadata": {},
   "outputs": [],
   "source": []
  },
  {
   "cell_type": "code",
   "execution_count": null,
   "id": "10fdb87a",
   "metadata": {},
   "outputs": [],
   "source": []
  }
 ],
 "metadata": {
  "kernelspec": {
   "display_name": "Python 3 (ipykernel)",
   "language": "python",
   "name": "python3"
  },
  "language_info": {
   "codemirror_mode": {
    "name": "ipython",
    "version": 3
   },
   "file_extension": ".py",
   "mimetype": "text/x-python",
   "name": "python",
   "nbconvert_exporter": "python",
   "pygments_lexer": "ipython3",
   "version": "3.9.7"
  }
 },
 "nbformat": 4,
 "nbformat_minor": 5
}
